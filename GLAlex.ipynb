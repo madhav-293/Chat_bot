{
  "nbformat": 4,
  "nbformat_minor": 0,
  "metadata": {
    "colab": {
      "provenance": []
    },
    "kernelspec": {
      "name": "python3",
      "display_name": "Python 3"
    },
    "language_info": {
      "name": "python"
    }
  },
  "cells": [
    {
      "cell_type": "code",
      "execution_count": 53,
      "metadata": {
        "id": "XTG2sCMyCngK"
      },
      "outputs": [],
      "source": [
        "import numpy as np\n",
        "import nltk\n",
        "import string\n",
        "import random\n"
      ]
    },
    {
      "cell_type": "code",
      "source": [
        "f=open('/content/data.txt','r',errors='ignore')\n",
        "raw_doc=f.read()"
      ],
      "metadata": {
        "id": "3pekZzxcCy5f"
      },
      "execution_count": 54,
      "outputs": []
    },
    {
      "cell_type": "code",
      "source": [
        "raw_doc=raw_doc.lower() #Converting entire text to lowercase\n",
        "nltk.download('punkt')#using punkt tokenizer\n",
        "nltk.download('wordnet')#using wordnet dictionary\n",
        "nltk.download('omw-1.4')\n",
        "sentence_tokens=nltk.sent_tokenize(raw_doc)\n",
        "word_tokens=nltk.word_tokenize(raw_doc)"
      ],
      "metadata": {
        "colab": {
          "base_uri": "https://localhost:8080/"
        },
        "id": "CYEBGWPaC1A6",
        "outputId": "5669008f-1e65-4537-d165-4acdcaf34cba"
      },
      "execution_count": 55,
      "outputs": [
        {
          "output_type": "stream",
          "name": "stderr",
          "text": [
            "[nltk_data] Downloading package punkt to /root/nltk_data...\n",
            "[nltk_data]   Package punkt is already up-to-date!\n",
            "[nltk_data] Downloading package wordnet to /root/nltk_data...\n",
            "[nltk_data]   Package wordnet is already up-to-date!\n",
            "[nltk_data] Downloading package omw-1.4 to /root/nltk_data...\n",
            "[nltk_data]   Package omw-1.4 is already up-to-date!\n"
          ]
        }
      ]
    },
    {
      "cell_type": "code",
      "source": [
        "lemmer=nltk.stem.WordNetLemmatizer()\n",
        "def LemTokens(tokens):\n",
        "  return [lemmer.lemmatize(token) for token in tokens]\n",
        "remove_punc_dict=dict((ord(punct),None) for punct in string.punctuation)\n",
        "def LemNormalize(text):\n",
        "  return LemTokens(nltk.word_tokenize(text.lower().translate(remove_punc_dict)))"
      ],
      "metadata": {
        "id": "1DAndSDQC4hH"
      },
      "execution_count": 56,
      "outputs": []
    },
    {
      "cell_type": "code",
      "source": [
        "greet_inputs=('hello','hi','whassup','how are you')\n",
        "greet_responses=('hi','Hey','Hey There!','There there!!')\n",
        "def greet(sentence):\n",
        "  for word in sentence.split():\n",
        "    if word.lower() in greet_inputs:\n",
        "      return random.choice(greet_responses)\n"
      ],
      "metadata": {
        "id": "eCcMhb9GC6mq"
      },
      "execution_count": 57,
      "outputs": []
    },
    {
      "cell_type": "code",
      "source": [
        "from sklearn.feature_extraction.text import TfidfVectorizer\n",
        "from sklearn.metrics.pairwise import cosine_similarity"
      ],
      "metadata": {
        "id": "cVGwvcyBC6uc"
      },
      "execution_count": 58,
      "outputs": []
    },
    {
      "cell_type": "code",
      "source": [
        "def response(user_response):\n",
        "  robo1_response=''\n",
        "  TfidfVec=TfidfVectorizer(tokenizer=LemNormalize,stop_words='english')\n",
        "  tfidf=TfidfVec.fit_transform(sentence_tokens)\n",
        "  vals=cosine_similarity(tfidf[-1],tfidf)\n",
        "  idx=vals.argsort()[0][-2]\n",
        "  flat=vals.flatten()\n",
        "  flat.sort()\n",
        "  req_tfidf=flat[-2]\n",
        "  if (req_tfidf==0):\n",
        "    robo1_response=robo1_response+\"I am sorry. Unable to understand you!\"\n",
        "    return robo1_response\n",
        "  else:\n",
        "    robo1_response=robo1_response+sentence_tokens[idx]\n",
        "    return robo1_response"
      ],
      "metadata": {
        "id": "fav8ndJvC-7R"
      },
      "execution_count": 59,
      "outputs": []
    },
    {
      "cell_type": "code",
      "source": [
        "flag=True\n",
        "print('Hello! I am GLAlex!. \\nAsk me anything related to Gla University, Mathura.\\nStart typing your text after greeting to talk to me. \\nFor ending convo type bye!')\n",
        "while(flag==True):\n",
        "  user_response=input()\n",
        "  user_response=user_response.lower()\n",
        "  if(user_response!='bye'):\n",
        "    if(user_response=='thank you' or user_response=='thanks'):\n",
        "      flag=False\n",
        "      print('Bot: You are Welcome..')\n",
        "    else:\n",
        "      if(greet(user_response)!=None):\n",
        "        print('Bot: '+greet(user_response))\n",
        "      else:\n",
        "        sentence_tokens.append(user_response)\n",
        "        word_tokens=word_tokens+nltk.word_tokenize(user_response)\n",
        "        final_words=list(set(word_tokens))\n",
        "        print('\\nBot: ',end='')\n",
        "        print((response(user_response)).title())\n",
        "        sentence_tokens.remove(user_response)\n",
        "  else:\n",
        "    flag=False\n",
        "    print('Bot: Goodbye!')\n",
        "''"
      ],
      "metadata": {
        "colab": {
          "base_uri": "https://localhost:8080/",
          "height": 1000
        },
        "id": "rC1qED0wC--B",
        "outputId": "2f16e104-0d6c-49fb-b01d-ab046a504497"
      },
      "execution_count": 62,
      "outputs": [
        {
          "output_type": "stream",
          "name": "stdout",
          "text": [
            "Hello! I am GLAlex!. \n",
            "Ask me anything related to Gla University, Mathura.\n",
            "Start typing your text after greeting to talk to me. \n",
            "For ending convo type bye!\n",
            "Hi\n",
            "Bot: There there!!\n",
            "Who is the founder of Gla university?\n",
            "\n",
            "Bot: Founder Of Gla University Is Shri Narayan Das Agrawal \n",
            "\n",
            "In The Year 1991 Shri Narayan Das Agrawal Decided To Fulfil The Dream Of His Father, Late Shri Ganeshi Lal Agrawal And Initiated The Sri Jagannath Prasad Ganeshi Lal Bajaj Charitable Trust Samiti In An Attempt To Make The Holy City Of Mathura A Recognized Destination For Knowledge Seekers From Different Walks Of Life.\n",
            "Address of gla\n",
            "\n",
            "Bot: Address \n",
            "Mathura\n",
            "17Km Stone, Nh-19, Mathura-Delhi Road Po Chaumuhan, Mathura-281 406 (Up)\n",
            "India.\n",
            "vision of gla\n",
            "\n",
            "Bot: Vision\n",
            "We Envision Ourselves As A Pace-Setting University Of Academic Excellence Focused On Education, Research And Development In Established And Emerging Professions .\n",
            "mission of gla \n",
            "\n",
            "Bot: Mission \n",
            "To Impart Quality Professional Education, To Conduct Commendable Research And To Provide Credible Consultancy And Extension Services As Per Current And Emerging Socio-Economic Needs\n",
            "\n",
            "To Continuously Enhance And Enrich The Teaching/Learning Process And Set Such Standards, Education And Otherwise, That Other Institutes Would Want To Emulate\n",
            "\n",
            "To Be Totally Student-Centric, Thus Promoting The Overall Growth And Development Of Intellect And Personality Of Our Prime Stakeholders, Namely Students, So That Our Alumni Are Worthy Citizens And Highly Sought-After Professionals Worldwide\n",
            "\n",
            "To Empower The Members Of Faculty And Staff So That The University'S Ambience Is One Of Harmony, Mutual Respect, Cooperative Endeavour And Receptivity Towards Positive Ideas\n",
            "\n",
            "To Proactively Seek Regular Feedback From All The Stakeholders And Take Appropriate Measures Based On Them Thus Leading To Excellent Learning Process.\n",
            "Tell me something about Prof Phalguni Gupta\n",
            "\n",
            "Bot: Prof Phalguni Gupta\n",
            "Vice-Chancellor And Professor\n",
            "Institute Of Engineering & Technology\n",
            "Department Of Computer Engineering & Applications\n",
            "Experience: 30 Years\n",
            "\n",
            "Qualifications\n",
            "Postdoctoral Researcher, Phd Cea, Mtech, Btech .\n",
            "Tell me something about Anup Kumar Gupta\n",
            "\n",
            "Bot: Prof Anup Kumar Gupta\n",
            "Director & Pro Vice Chancellor\n",
            "Institute Of Applied Sciences & Humanities\n",
            "Department Of English\n",
            "Experience: 28 Years\n",
            "Qualifications: Phd (English), Mphil (English), Ma (English-Gold Medalist), Mba Ba (English), Executive Mba (Overall Topper) .\n",
            "Courses offered by Gla\n",
            "\n",
            "Bot: Courses Offered By Gla University \n",
            "Btech Electronics & Communication Engineering\n",
            "Btech Electrical & Electronics Engineering\n",
            "Btech (Electrical Engineering)\n",
            "Btech Ec (With Minor In Computer Science)\n",
            "Btech Ec (With Specialization In Vlsi)\n",
            "Btech (Mechanical Engineering)\n",
            "Btech Mechanical Engineering (Specialization In Smart Manufacturing)\n",
            "Btech (Civil Engineering)\n",
            "Btech (Computer Science & Engineering)\n",
            "Btech Computer Science & Engineering (Specialization In Industrial Internet Of Things)\n",
            "Btech Computer Science & Engineering (Specialization In Artificial Intelligence & Machine Learning)\n",
            "Btech Computer Science & Engineering (Specialization In Cloud Computing & Virtualization)\n",
            "Btech Computer Science & Engineering (Specialization In Cyber Security & Forensics)\n",
            "Btech Computer Science & Engineering (Specialization In Data Analytics)\n",
            "Btech Mechanical Engineering (Specialization In Mechatronics)\n",
            "Btech Mechanical Engineering (Specialization In Automobile)\n",
            "Btech (Biotechnology)\n",
            "Btech Mechanical Engineering (Lateral Entry)\n",
            "Btech Cse (Lateral Entry)\n",
            "Btech Electrical Engineering (Lateral Entry)\n",
            "Btech Electronics & Communications(Lateral Entry)\n",
            "Btech Civil Engineering (Lateral Entry)\n",
            "Bsc (Hons) Chemistry\n",
            "Bsc(Hons) Biotechnology\n",
            "Bsc(Hons) Physics\n",
            "Bsc(Hons) Agriculture\n",
            "Bpharm\n",
            "Bpharm(Lateral Entry)\n",
            "Bca\n",
            "Ba (Hons) Economics\n",
            "Ba Llb (Hons)\n",
            "Bcom (Hons) Global Accounting\n",
            "Bed\n",
            "Bcom (Hons)\n",
            "Bcom Llb (Hons)\n",
            "Bba\n",
            "Bba (Hons)\n",
            "Bba (Family Business)\n",
            "Btech(Hons) Computer Science & Engineering\n",
            "Bca (Hons)\n",
            "Ba (Hons) English\n",
            "Post Graduate Courses\n",
            "Mpharm (Pharmaceutics)\n",
            "Mpharm (Pharmacology)\n",
            "Mca\n",
            "Mtech (Electronics And Communications Engineering)\n",
            "Mtech (Electrical Engineering)\n",
            "Mtech Mechanical Engineering (Design)\n",
            "Mtech Civil Engineering (Structural Engineering)\n",
            "Mtech Civil Engineering (Transportation Engineering)\n",
            "Mtech (Computer Science & Engineering)\n",
            "Msc (Mathematics)\n",
            "Msc (Microbiology & Immunology)\n",
            "Msc (Chemistry)\n",
            "Msc (Biotechnology)\n",
            "Msc (Physics)\n",
            "Mba\n",
            "Mba (Construction Management)\n",
            "Msc(Agriculture)\n",
            "Mba (Integrated)\n",
            "Mba (Financial Markets & Banking)\n",
            "Mba (Logistics And Supply Chain Management)\n",
            "Mba (Hons)\n",
            "Llm\n",
            "Llm Executive\n",
            "Mtech Mechanical Engineering .\n",
            "Placement overview?\n",
            "\n",
            "Bot: Placement Overview\n",
            "500+\n",
            "Mncs With Salary Packages Ranging From 4 To 44 Lpa (Batch 2022) And Still Counting\n",
            "\n",
            "3000+\n",
            "Placements Offers (Batch 2022) \n",
            "\n",
            "76%\n",
            "Average Placement Over The Past Decade\n",
            "Years\n",
            "\n",
            "44Lpa\n",
            "Highest Package Offfered\n",
            "(In Campus) .\n",
            "Year wise placements\n",
            "\n",
            "Bot: Year Wise Number Of Placements\n",
            "2022 3000 Still Continue\n",
            "2021 2100\n",
            "2020 1700 \n",
            "2019 2500\n",
            "2018 2100\n",
            "2017 2003 \n",
            "Many More .\n",
            "Year wise number of companies\n",
            "\n",
            "Bot: Year Wise Number Of Companies Visited\n",
            "2022 400 Still Continue\n",
            "2021 400\n",
            "2020 260\n",
            "2019 350\n",
            "2018 293\n",
            "2017 273 \n",
            "Many More .\n",
            "thank you\n",
            "Bot: You are Welcome..\n"
          ]
        },
        {
          "output_type": "execute_result",
          "data": {
            "text/plain": [
              "''"
            ],
            "application/vnd.google.colaboratory.intrinsic+json": {
              "type": "string"
            }
          },
          "metadata": {},
          "execution_count": 62
        }
      ]
    }
  ]
}