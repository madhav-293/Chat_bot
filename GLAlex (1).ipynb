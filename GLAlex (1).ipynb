{
  "nbformat": 4,
  "nbformat_minor": 0,
  "metadata": {
    "colab": {
      "provenance": []
    },
    "kernelspec": {
      "name": "python3",
      "display_name": "Python 3"
    },
    "language_info": {
      "name": "python"
    }
  },
  "cells": [
    {
      "cell_type": "code",
      "execution_count": 1,
      "metadata": {
        "id": "XTG2sCMyCngK"
      },
      "outputs": [],
      "source": [
        "import numpy as np\n",
        "import nltk\n",
        "import string\n",
        "import random\n"
      ]
    },
    {
      "cell_type": "code",
      "source": [
        "f=open('/content/data.txt','r',errors='ignore')\n",
        "raw_doc=f.read()"
      ],
      "metadata": {
        "id": "3pekZzxcCy5f"
      },
      "execution_count": 2,
      "outputs": []
    },
    {
      "cell_type": "code",
      "source": [
        "raw_doc=raw_doc.lower() #Converting entire text to lowercase\n",
        "nltk.download('punkt')#using punkt tokenizer\n",
        "nltk.download('wordnet')#using wordnet dictionary\n",
        "nltk.download('omw-1.4')\n",
        "sentence_tokens=nltk.sent_tokenize(raw_doc)\n",
        "word_tokens=nltk.word_tokenize(raw_doc)"
      ],
      "metadata": {
        "colab": {
          "base_uri": "https://localhost:8080/"
        },
        "id": "CYEBGWPaC1A6",
        "outputId": "62d26183-c2f3-4780-f601-041d067bf7d5"
      },
      "execution_count": 3,
      "outputs": [
        {
          "output_type": "stream",
          "name": "stderr",
          "text": [
            "[nltk_data] Downloading package punkt to /root/nltk_data...\n",
            "[nltk_data]   Unzipping tokenizers/punkt.zip.\n",
            "[nltk_data] Downloading package wordnet to /root/nltk_data...\n",
            "[nltk_data] Downloading package omw-1.4 to /root/nltk_data...\n"
          ]
        }
      ]
    },
    {
      "cell_type": "code",
      "source": [
        "lemmer=nltk.stem.WordNetLemmatizer()\n",
        "def LemTokens(tokens):\n",
        "  return [lemmer.lemmatize(token) for token in tokens]\n",
        "remove_punc_dict=dict((ord(punct),None) for punct in string.punctuation)\n",
        "def LemNormalize(text):\n",
        "  return LemTokens(nltk.word_tokenize(text.lower().translate(remove_punc_dict)))"
      ],
      "metadata": {
        "id": "1DAndSDQC4hH"
      },
      "execution_count": 4,
      "outputs": []
    },
    {
      "cell_type": "code",
      "source": [
        "greet_inputs=('hello','hi','whassup','how are you')\n",
        "greet_responses=('hi','Hey','Hey There!','There there!!')\n",
        "def greet(sentence):\n",
        "  for word in sentence.split():\n",
        "    if word.lower() in greet_inputs:\n",
        "      return random.choice(greet_responses)\n"
      ],
      "metadata": {
        "id": "eCcMhb9GC6mq"
      },
      "execution_count": 5,
      "outputs": []
    },
    {
      "cell_type": "code",
      "source": [
        "from sklearn.feature_extraction.text import TfidfVectorizer\n",
        "from sklearn.metrics.pairwise import cosine_similarity"
      ],
      "metadata": {
        "id": "cVGwvcyBC6uc"
      },
      "execution_count": 6,
      "outputs": []
    },
    {
      "cell_type": "code",
      "source": [
        "def response(user_response):\n",
        "  robo1_response=''\n",
        "  TfidfVec=TfidfVectorizer(tokenizer=LemNormalize,stop_words='english')\n",
        "  tfidf=TfidfVec.fit_transform(sentence_tokens)\n",
        "  vals=cosine_similarity(tfidf[-1],tfidf)\n",
        "  idx=vals.argsort()[0][-2]\n",
        "  flat=vals.flatten()\n",
        "  flat.sort()\n",
        "  req_tfidf=flat[-2]\n",
        "  if (req_tfidf==0):\n",
        "    robo1_response=robo1_response+\"I am sorry. Unable to understand you!\"\n",
        "    return robo1_response\n",
        "  else:\n",
        "    robo1_response=robo1_response+sentence_tokens[idx]\n",
        "    return robo1_response"
      ],
      "metadata": {
        "id": "fav8ndJvC-7R"
      },
      "execution_count": 7,
      "outputs": []
    },
    {
      "cell_type": "code",
      "source": [
        "flag=True\n",
        "print('Hello! I am GLAlex!. \\nAsk me anything related to Gla University, Mathura.\\nStart typing your text after greeting to talk to me. \\nFor ending convo type bye!')\n",
        "while(flag==True):\n",
        "  user_response=input()\n",
        "  user_response=user_response.lower()\n",
        "  if(user_response!='bye'):\n",
        "    if(user_response=='thank you' or user_response=='thanks'):\n",
        "      flag=False\n",
        "      print('Bot: You are Welcome..')\n",
        "    else:\n",
        "      if(greet(user_response)!=None):\n",
        "        print('Bot: '+greet(user_response))\n",
        "      else:\n",
        "        sentence_tokens.append(user_response)\n",
        "        word_tokens=word_tokens+nltk.word_tokenize(user_response)\n",
        "        final_words=list(set(word_tokens))\n",
        "        print('\\nBot: ',end='')\n",
        "        print((response(user_response)).title())\n",
        "        sentence_tokens.remove(user_response)\n",
        "  else:\n",
        "    flag=False\n",
        "    print('Bot: Goodbye!')\n",
        "''"
      ],
      "metadata": {
        "colab": {
          "base_uri": "https://localhost:8080/"
        },
        "id": "rC1qED0wC--B",
        "outputId": "3b2e5e72-0b37-4147-8218-1f68976e0079"
      },
      "execution_count": 9,
      "outputs": [
        {
          "output_type": "stream",
          "name": "stdout",
          "text": [
            "Hello! I am GLAlex!. \n",
            "Ask me anything related to Gla University, Mathura.\n",
            "Start typing your text after greeting to talk to me. \n",
            "For ending convo type bye!\n",
            "hi\n",
            "Bot: Hey There!\n",
            "anshy\n",
            "\n",
            "Bot: Mr Anshy Singh\n",
            "Assistant Professor & Head Software Development Cell\n",
            "Institute Of Engineering & Technology\n",
            "Department Of Computer Engineering & Applications\n",
            "Experience\n",
            "13+ Years Teaching/Research Experience In The Field\n",
            "\n",
            "Qualifications\n",
            "Phd (Pursuing): Gla University, Mathura\n",
            "Mtech (2013): Gla University, Mathura .\n",
            "bye\n",
            "Bot: Goodbye!\n"
          ]
        }
      ]
    }
  ]
}